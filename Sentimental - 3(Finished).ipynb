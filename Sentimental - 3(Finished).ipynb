{
 "cells": [
  {
   "cell_type": "code",
   "execution_count": 90,
   "metadata": {},
   "outputs": [],
   "source": [
    "import pandas as pd\n",
    "import numpy as np "
   ]
  },
  {
   "cell_type": "code",
   "execution_count": 91,
   "metadata": {},
   "outputs": [],
   "source": [
    "data = pd.read_csv(\"Reviews.csv\")"
   ]
  },
  {
   "cell_type": "code",
   "execution_count": 92,
   "metadata": {},
   "outputs": [
    {
     "name": "stdout",
     "output_type": "stream",
     "text": [
      "                      Review  Label\n",
      "0          I loved the movie      1\n",
      "1          I hated the movie      0\n",
      "2   a great movie good movie      1\n",
      "3                poor acting      0\n",
      "4  great acting a good movie      1\n"
     ]
    }
   ],
   "source": [
    "print(data)"
   ]
  },
  {
   "cell_type": "code",
   "execution_count": 93,
   "metadata": {},
   "outputs": [
    {
     "data": {
      "text/html": [
       "<div>\n",
       "<style scoped>\n",
       "    .dataframe tbody tr th:only-of-type {\n",
       "        vertical-align: middle;\n",
       "    }\n",
       "\n",
       "    .dataframe tbody tr th {\n",
       "        vertical-align: top;\n",
       "    }\n",
       "\n",
       "    .dataframe thead th {\n",
       "        text-align: right;\n",
       "    }\n",
       "</style>\n",
       "<table border=\"1\" class=\"dataframe\">\n",
       "  <thead>\n",
       "    <tr style=\"text-align: right;\">\n",
       "      <th></th>\n",
       "      <th>Review</th>\n",
       "      <th>Label</th>\n",
       "    </tr>\n",
       "  </thead>\n",
       "  <tbody>\n",
       "    <tr>\n",
       "      <th>0</th>\n",
       "      <td>I loved the movie</td>\n",
       "      <td>1</td>\n",
       "    </tr>\n",
       "    <tr>\n",
       "      <th>1</th>\n",
       "      <td>I hated the movie</td>\n",
       "      <td>0</td>\n",
       "    </tr>\n",
       "  </tbody>\n",
       "</table>\n",
       "</div>"
      ],
      "text/plain": [
       "              Review  Label\n",
       "0  I loved the movie      1\n",
       "1  I hated the movie      0"
      ]
     },
     "execution_count": 93,
     "metadata": {},
     "output_type": "execute_result"
    }
   ],
   "source": [
    "data.head(2)"
   ]
  },
  {
   "cell_type": "code",
   "execution_count": 94,
   "metadata": {},
   "outputs": [
    {
     "data": {
      "text/plain": [
       "Index(['Review', 'Label'], dtype='object')"
      ]
     },
     "execution_count": 94,
     "metadata": {},
     "output_type": "execute_result"
    }
   ],
   "source": [
    "data.columns"
   ]
  },
  {
   "cell_type": "code",
   "execution_count": 95,
   "metadata": {},
   "outputs": [
    {
     "data": {
      "text/plain": [
       "(5, 2)"
      ]
     },
     "execution_count": 95,
     "metadata": {},
     "output_type": "execute_result"
    }
   ],
   "source": [
    "data.shape"
   ]
  },
  {
   "cell_type": "code",
   "execution_count": 96,
   "metadata": {},
   "outputs": [
    {
     "data": {
      "text/plain": [
       "Review    object\n",
       "Label      int64\n",
       "dtype: object"
      ]
     },
     "execution_count": 96,
     "metadata": {},
     "output_type": "execute_result"
    }
   ],
   "source": [
    "data.dtypes"
   ]
  },
  {
   "cell_type": "code",
   "execution_count": 97,
   "metadata": {},
   "outputs": [
    {
     "data": {
      "text/plain": [
       "Review    5\n",
       "Label     2\n",
       "dtype: int64"
      ]
     },
     "execution_count": 97,
     "metadata": {},
     "output_type": "execute_result"
    }
   ],
   "source": [
    "data.nunique()"
   ]
  },
  {
   "cell_type": "code",
   "execution_count": 98,
   "metadata": {},
   "outputs": [],
   "source": [
    "review = data['Review']\n",
    "label = data['Label']"
   ]
  },
  {
   "cell_type": "code",
   "execution_count": 99,
   "metadata": {},
   "outputs": [
    {
     "name": "stdout",
     "output_type": "stream",
     "text": [
      "0            I loved the movie\n",
      "1            I hated the movie\n",
      "2     a great movie good movie\n",
      "3                  poor acting\n",
      "4    great acting a good movie\n",
      "Name: Review, dtype: object\n"
     ]
    }
   ],
   "source": [
    "print(review)"
   ]
  },
  {
   "cell_type": "code",
   "execution_count": 100,
   "metadata": {},
   "outputs": [
    {
     "name": "stdout",
     "output_type": "stream",
     "text": [
      "0    1\n",
      "1    0\n",
      "2    1\n",
      "3    0\n",
      "4    1\n",
      "Name: Label, dtype: int64\n"
     ]
    }
   ],
   "source": [
    "print(label)"
   ]
  },
  {
   "cell_type": "code",
   "execution_count": 101,
   "metadata": {},
   "outputs": [],
   "source": [
    "unique_word = []\n",
    "for x in review:\n",
    "    for y in x.split(' ') :\n",
    "        if y not in unique_word:\n",
    "            unique_word.append(y)"
   ]
  },
  {
   "cell_type": "code",
   "execution_count": 102,
   "metadata": {},
   "outputs": [
    {
     "name": "stdout",
     "output_type": "stream",
     "text": [
      "['I', 'loved', 'the', 'movie', 'hated', 'a', 'great', 'good', 'poor', 'acting']\n"
     ]
    }
   ],
   "source": [
    "print(unique_word)"
   ]
  },
  {
   "cell_type": "code",
   "execution_count": 103,
   "metadata": {},
   "outputs": [
    {
     "name": "stdout",
     "output_type": "stream",
     "text": [
      "[[0. 0. 0. 0. 0. 0. 0. 0. 0. 0.]\n",
      " [0. 0. 0. 0. 0. 0. 0. 0. 0. 0.]\n",
      " [0. 0. 0. 0. 0. 0. 0. 0. 0. 0.]\n",
      " [0. 0. 0. 0. 0. 0. 0. 0. 0. 0.]\n",
      " [0. 0. 0. 0. 0. 0. 0. 0. 0. 0.]]\n"
     ]
    }
   ],
   "source": [
    "count = np.zeros((len(review), len(unique_word)))\n",
    "print(count)"
   ]
  },
  {
   "cell_type": "code",
   "execution_count": 104,
   "metadata": {
    "scrolled": true
   },
   "outputs": [
    {
     "name": "stdout",
     "output_type": "stream",
     "text": [
      "I 1\n",
      "loved 1\n",
      "the 1\n",
      "movie 1\n",
      "hated 0\n",
      "a 0\n",
      "great 0\n",
      "good 0\n",
      "poor 0\n",
      "acting 0\n",
      "I 1\n",
      "loved 0\n",
      "the 1\n",
      "movie 1\n",
      "hated 1\n",
      "a 0\n",
      "great 0\n",
      "good 0\n",
      "poor 0\n",
      "acting 0\n",
      "I 0\n",
      "loved 0\n",
      "the 0\n",
      "movie 2\n",
      "hated 0\n",
      "a 1\n",
      "great 1\n",
      "good 1\n",
      "poor 0\n",
      "acting 0\n",
      "I 0\n",
      "loved 0\n",
      "the 0\n",
      "movie 0\n",
      "hated 0\n",
      "a 0\n",
      "great 0\n",
      "good 0\n",
      "poor 1\n",
      "acting 1\n",
      "I 0\n",
      "loved 0\n",
      "the 0\n",
      "movie 1\n",
      "hated 0\n",
      "a 1\n",
      "great 1\n",
      "good 1\n",
      "poor 0\n",
      "acting 1\n"
     ]
    }
   ],
   "source": [
    "occur=0\n",
    "elem=[]\n",
    "for a in range(len(review)):\n",
    "    for y in unique_word:\n",
    "        #print(y)\n",
    "        for x in review[a].split(' '):\n",
    "            #print(x)\n",
    "            if y==x:\n",
    "                #col = col+1\n",
    "                occur +=1\n",
    "                #print(occur,x,y)\n",
    "            #insert in count\n",
    "        elem.append(occur)    \n",
    "        print(y,occur)\n",
    "        #count[][]=occur\n",
    "        occur = 0\n",
    "            "
   ]
  },
  {
   "cell_type": "code",
   "execution_count": 105,
   "metadata": {},
   "outputs": [],
   "source": [
    "a=0\n",
    "for y in range(len(review)):\n",
    "    \n",
    "    for x in range(len(elem)):\n",
    "        if (x>len(unique_word)-1):\n",
    "            break\n",
    "        count[y][x] = elem[a]\n",
    "        a = a + 1"
   ]
  },
  {
   "cell_type": "code",
   "execution_count": 106,
   "metadata": {},
   "outputs": [
    {
     "name": "stdout",
     "output_type": "stream",
     "text": [
      "I\tloved\tthe\tmovie\thated\ta\tgreat\tgood\tpoor\tacting\t\n",
      "--------------------------------------------------------------------------------\n",
      "1\t1\t1\t1\t0\t0\t0\t0\t0\t0\t\n",
      "1\t0\t1\t1\t1\t0\t0\t0\t0\t0\t\n",
      "0\t0\t0\t2\t0\t1\t1\t1\t0\t0\t\n",
      "0\t0\t0\t0\t0\t0\t0\t0\t1\t1\t\n",
      "0\t0\t0\t1\t0\t1\t1\t1\t0\t1\t\n"
     ]
    }
   ],
   "source": [
    "for x in unique_word:\n",
    "    print(x, end = '\\t')   \n",
    "print('\\n',\"-\"*80,sep = '')    \n",
    "for x in range(len(review)):\n",
    "    for y in range(len(unique_word)):\n",
    "        print(int(count[x][y]) , end ='\\t')\n",
    "    print() "
   ]
  },
  {
   "cell_type": "code",
   "execution_count": 107,
   "metadata": {},
   "outputs": [
    {
     "name": "stdout",
     "output_type": "stream",
     "text": [
      "[4, 4, 5, 2, 5]\n"
     ]
    }
   ],
   "source": [
    "sum_row = []\n",
    "su=0\n",
    "for y in range(len(review)):\n",
    "    for x in range(len(unique_word)):\n",
    "        su+=int(count[y][x])\n",
    "    sum_row.append(su)\n",
    "    su=0\n",
    "print(sum_row)    "
   ]
  },
  {
   "cell_type": "code",
   "execution_count": 108,
   "metadata": {},
   "outputs": [
    {
     "name": "stdout",
     "output_type": "stream",
     "text": [
      "0.6 || 0.4\n"
     ]
    }
   ],
   "source": [
    "p_s =0\n",
    "n_s =0\n",
    "for x in label:\n",
    "    if x==1:\n",
    "        p_s +=1\n",
    "    if x==0:\n",
    "        n_s +=1\n",
    "pos_p = p_s/(p_s+n_s)\n",
    "neg_p = n_s/(p_s+n_s)\n",
    "print(pos_p ,'||', neg_p)"
   ]
  },
  {
   "cell_type": "code",
   "execution_count": 109,
   "metadata": {},
   "outputs": [],
   "source": [
    "pos_list = []\n",
    "neg_list = []\n",
    "psum=0\n",
    "nsum=0\n",
    "for x in range(len(unique_word)):\n",
    "    #print(unique_word[x])\n",
    "    for y in range(len(review)):\n",
    "        if(label[y]==1):\n",
    "            psum+=count[y][x]\n",
    "    pos_list.append(int(psum))        \n",
    "    #print(int(psum))\n",
    "    psum=0\n",
    "            \n",
    "for x in range(len(unique_word)):\n",
    "    #print(unique_word[x])\n",
    "    for y in range(len(review)):\n",
    "        if(label[y]==0):\n",
    "            nsum+=count[y][x]\n",
    "    neg_list.append(int(nsum))        \n",
    "    #print(int(nsum))\n",
    "    nsum=0            "
   ]
  },
  {
   "cell_type": "code",
   "execution_count": 110,
   "metadata": {},
   "outputs": [
    {
     "name": "stdout",
     "output_type": "stream",
     "text": [
      "[1, 1, 1, 4, 0, 2, 2, 2, 0, 1]\n",
      "14\n"
     ]
    }
   ],
   "source": [
    "print(pos_list)\n",
    "sum_pos=0\n",
    "for x in range(len(pos_list)):\n",
    "    sum_pos += pos_list[x]\n",
    "print(sum_pos)    "
   ]
  },
  {
   "cell_type": "code",
   "execution_count": 111,
   "metadata": {},
   "outputs": [
    {
     "name": "stdout",
     "output_type": "stream",
     "text": [
      "[1, 0, 1, 1, 1, 0, 0, 0, 1, 1]\n",
      "6\n"
     ]
    }
   ],
   "source": [
    "print(neg_list)\n",
    "sum_neg=0\n",
    "for x in range(len(neg_list)):\n",
    "    sum_neg += neg_list[x]\n",
    "print(sum_neg)    "
   ]
  },
  {
   "cell_type": "code",
   "execution_count": 112,
   "metadata": {},
   "outputs": [
    {
     "name": "stdout",
     "output_type": "stream",
     "text": [
      "I \t 0.08333333333333333\n",
      "loved \t 0.08333333333333333\n",
      "the \t 0.08333333333333333\n",
      "movie \t 0.20833333333333334\n",
      "hated \t 0.041666666666666664\n",
      "a \t 0.125\n",
      "great \t 0.125\n",
      "good \t 0.125\n",
      "poor \t 0.041666666666666664\n",
      "acting \t 0.08333333333333333\n"
     ]
    }
   ],
   "source": [
    "pword_p = []\n",
    "for x in range(len(unique_word)):\n",
    "    ans = (pos_list[x]+1)/(sum_pos+len(unique_word))\n",
    "    pword_p.append(ans)\n",
    "    print(unique_word[x],'\\t',ans)"
   ]
  },
  {
   "cell_type": "code",
   "execution_count": 113,
   "metadata": {},
   "outputs": [
    {
     "name": "stdout",
     "output_type": "stream",
     "text": [
      "I \t 0.125\n",
      "loved \t 0.0625\n",
      "the \t 0.125\n",
      "movie \t 0.125\n",
      "hated \t 0.125\n",
      "a \t 0.0625\n",
      "great \t 0.0625\n",
      "good \t 0.0625\n",
      "poor \t 0.125\n",
      "acting \t 0.125\n"
     ]
    }
   ],
   "source": [
    "nword_p = []\n",
    "for x in range(len(unique_word)):\n",
    "    ans = (neg_list[x]+1)/(sum_neg+len(unique_word))\n",
    "    nword_p.append(ans)\n",
    "    print(unique_word[x],'\\t',ans)"
   ]
  },
  {
   "cell_type": "code",
   "execution_count": 114,
   "metadata": {},
   "outputs": [
    {
     "name": "stdout",
     "output_type": "stream",
     "text": [
      "['I', 'loved', 'the', 'movie']\n"
     ]
    }
   ],
   "source": [
    "tar_arr = (target.split(' '))\n",
    "print(tar_arr)"
   ]
  },
  {
   "cell_type": "code",
   "execution_count": 115,
   "metadata": {},
   "outputs": [
    {
     "name": "stdout",
     "output_type": "stream",
     "text": [
      "I,loved,the,movie,hated,a,great,good,poor,acting,"
     ]
    }
   ],
   "source": [
    "for x in unique_word:\n",
    "    print(x , end = ',')"
   ]
  },
  {
   "cell_type": "code",
   "execution_count": 117,
   "metadata": {},
   "outputs": [
    {
     "name": "stdout",
     "output_type": "stream",
     "text": [
      "Enter your statement: good movie\n",
      "7.233796296296295e-05\n",
      "4.8828125e-05\n",
      "Positive Sentiment\n"
     ]
    }
   ],
   "source": [
    "target = input((\"Enter your statement: \"))\n",
    "out_pos = pos_p\n",
    "out_neg = neg_p\n",
    "for x in range(len(tar_arr)):\n",
    "    \n",
    "    for y in range(len(unique_word)):\n",
    "        \n",
    "        if (tar_arr[x])==(unique_word[y]):\n",
    "            \n",
    "            out_pos *=  pword_p[y]\n",
    "            out_neg *=  nword_p[y]\n",
    "            break\n",
    "print(out_pos)\n",
    "print(out_neg)\n",
    "if out_pos>out_neg:\n",
    "    print('Positive Sentiment')\n",
    "else:\n",
    "    print('Negative Sentiment')"
   ]
  },
  {
   "cell_type": "code",
   "execution_count": null,
   "metadata": {},
   "outputs": [],
   "source": []
  }
 ],
 "metadata": {
  "kernelspec": {
   "display_name": "Python 3",
   "language": "python",
   "name": "python3"
  },
  "language_info": {
   "codemirror_mode": {
    "name": "ipython",
    "version": 3
   },
   "file_extension": ".py",
   "mimetype": "text/x-python",
   "name": "python",
   "nbconvert_exporter": "python",
   "pygments_lexer": "ipython3",
   "version": "3.5.6"
  }
 },
 "nbformat": 4,
 "nbformat_minor": 2
}
